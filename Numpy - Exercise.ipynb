{
 "cells": [
  {
   "cell_type": "code",
   "execution_count": 1,
   "id": "12016939",
   "metadata": {},
   "outputs": [],
   "source": [
    "# We import numpy with its abbreviation \"np\"\n",
    "import numpy as np\n",
    "\n",
    "# We can create one-dimensional arrays with the function np.array()\n",
    "array_onedim = np.array([1,2,3,4,5])\n",
    "\n",
    "# Two-dimensional array\n",
    "array_bidim = np.array([[1,2,3],\n",
    "                       [4,5,6]])\n",
    "\n",
    "# Three-dimensional array\n",
    "array_tridim = np.array([[[1,2,3],\n",
    "                         [4,5,6]],\n",
    "                        [[7,8,9],\n",
    "                        [10,11,12]]])"
   ]
  },
  {
   "cell_type": "code",
   "execution_count": 3,
   "id": "766a2add",
   "metadata": {},
   "outputs": [
    {
     "data": {
      "text/plain": [
       "((5,), 1, dtype('int32'), 5, numpy.ndarray)"
      ]
     },
     "execution_count": 3,
     "metadata": {},
     "output_type": "execute_result"
    }
   ],
   "source": [
    "# One-dimensional array attributes\n",
    "array_onedim.shape, array_onedim.ndim, array_onedim.dtype, array_onedim.size, type(array_onedim)"
   ]
  },
  {
   "cell_type": "code",
   "execution_count": 4,
   "id": "9c27fbfc",
   "metadata": {},
   "outputs": [
    {
     "data": {
      "text/plain": [
       "((2, 3), 2, dtype('int32'), 6, numpy.ndarray)"
      ]
     },
     "execution_count": 4,
     "metadata": {},
     "output_type": "execute_result"
    }
   ],
   "source": [
    "# Two-dimensional array attributes\n",
    "array_bidim.shape, array_bidim.ndim, array_bidim.dtype, array_bidim.size, type(array_bidim)"
   ]
  },
  {
   "cell_type": "code",
   "execution_count": 5,
   "id": "9ecbd6cf",
   "metadata": {},
   "outputs": [
    {
     "data": {
      "text/plain": [
       "((2, 2, 3), 3, dtype('int32'), 12, numpy.ndarray)"
      ]
     },
     "execution_count": 5,
     "metadata": {},
     "output_type": "execute_result"
    }
   ],
   "source": [
    "# Three-dimensional array attributes\n",
    "array_tridim.shape, array_tridim.ndim, array_tridim.dtype, array_tridim.size, type(array_tridim)"
   ]
  },
  {
   "cell_type": "code",
   "execution_count": 6,
   "id": "a51f3d52",
   "metadata": {},
   "outputs": [
    {
     "data": {
      "text/html": [
       "<div>\n",
       "<style scoped>\n",
       "    .dataframe tbody tr th:only-of-type {\n",
       "        vertical-align: middle;\n",
       "    }\n",
       "\n",
       "    .dataframe tbody tr th {\n",
       "        vertical-align: top;\n",
       "    }\n",
       "\n",
       "    .dataframe thead th {\n",
       "        text-align: right;\n",
       "    }\n",
       "</style>\n",
       "<table border=\"1\" class=\"dataframe\">\n",
       "  <thead>\n",
       "    <tr style=\"text-align: right;\">\n",
       "      <th></th>\n",
       "      <th>0</th>\n",
       "      <th>1</th>\n",
       "      <th>2</th>\n",
       "    </tr>\n",
       "  </thead>\n",
       "  <tbody>\n",
       "    <tr>\n",
       "      <th>0</th>\n",
       "      <td>1</td>\n",
       "      <td>2</td>\n",
       "      <td>3</td>\n",
       "    </tr>\n",
       "    <tr>\n",
       "      <th>1</th>\n",
       "      <td>4</td>\n",
       "      <td>5</td>\n",
       "      <td>6</td>\n",
       "    </tr>\n",
       "  </tbody>\n",
       "</table>\n",
       "</div>"
      ],
      "text/plain": [
       "   0  1  2\n",
       "0  1  2  3\n",
       "1  4  5  6"
      ]
     },
     "execution_count": 6,
     "metadata": {},
     "output_type": "execute_result"
    }
   ],
   "source": [
    "# We import pandas as pd, and we create a DataFrame from the two-dimensional array\n",
    "import pandas as pd\n",
    "\n",
    "data = pd.DataFrame(array_bidim)\n",
    "data"
   ]
  },
  {
   "cell_type": "code",
   "execution_count": 7,
   "id": "0bf85c33",
   "metadata": {},
   "outputs": [
    {
     "data": {
      "text/plain": [
       "array([[1., 1., 1.],\n",
       "       [1., 1., 1.],\n",
       "       [1., 1., 1.],\n",
       "       [1., 1., 1.]])"
      ]
     },
     "execution_count": 7,
     "metadata": {},
     "output_type": "execute_result"
    }
   ],
   "source": [
    "# We create an array of size 4x3, formed only by ones (1)\n",
    "ones = np.ones((4,3))\n",
    "ones"
   ]
  },
  {
   "cell_type": "code",
   "execution_count": 8,
   "id": "4670163b",
   "metadata": {},
   "outputs": [
    {
     "data": {
      "text/plain": [
       "array([[[0., 0., 0.],\n",
       "        [0., 0., 0.],\n",
       "        [0., 0., 0.],\n",
       "        [0., 0., 0.]],\n",
       "\n",
       "       [[0., 0., 0.],\n",
       "        [0., 0., 0.],\n",
       "        [0., 0., 0.],\n",
       "        [0., 0., 0.]]])"
      ]
     },
     "execution_count": 8,
     "metadata": {},
     "output_type": "execute_result"
    }
   ],
   "source": [
    "# We create an array of size 2x4x3, formed only by zeros (0)\n",
    "zero = np.zeros((2,4,3))\n",
    "zero\n"
   ]
  },
  {
   "cell_type": "code",
   "execution_count": 9,
   "id": "b4d7610c",
   "metadata": {},
   "outputs": [
    {
     "data": {
      "text/plain": [
       "array([ 0,  5, 10, 15, 20, 25, 30, 35, 40, 45, 50, 55, 60, 65, 70, 75, 80,\n",
       "       85, 90, 95])"
      ]
     },
     "execution_count": 9,
     "metadata": {},
     "output_type": "execute_result"
    }
   ],
   "source": [
    "# We create an array of numbers in the range from 0 to 100, with a step of 5\n",
    "array_1 = np.arange(0, 100, 5)\n",
    "array_1"
   ]
  },
  {
   "cell_type": "code",
   "execution_count": 10,
   "id": "13764ef2",
   "metadata": {},
   "outputs": [
    {
     "data": {
      "text/plain": [
       "array([[9, 4, 1, 7, 4],\n",
       "       [7, 0, 8, 4, 8]])"
      ]
     },
     "execution_count": 10,
     "metadata": {},
     "output_type": "execute_result"
    }
   ],
   "source": [
    "# We create an array of random integer numbers between 0 and 10, of size (2,5)\n",
    "array_2 = np.random.randint(0, 10, (2,5))\n",
    "array_2\n"
   ]
  },
  {
   "cell_type": "code",
   "execution_count": 12,
   "id": "89f07703",
   "metadata": {},
   "outputs": [
    {
     "data": {
      "text/plain": [
       "array([[0.03657402, 0.11342831, 0.01378612, 0.52884681, 0.91074438],\n",
       "       [0.78132111, 0.43526136, 0.82647198, 0.45573254, 0.94112344],\n",
       "       [0.07428089, 0.064696  , 0.87003479, 0.6437407 , 0.74721016]])"
      ]
     },
     "execution_count": 12,
     "metadata": {},
     "output_type": "execute_result"
    }
   ],
   "source": [
    "# We create an array of decimal random numbers between 0 and 1, of size (3,5)\n",
    "array_3 = np.random.random((3,5))\n",
    "array_3"
   ]
  },
  {
   "cell_type": "code",
   "execution_count": 13,
   "id": "53ed76a1",
   "metadata": {},
   "outputs": [
    {
     "data": {
      "text/plain": [
       "array([[3, 8, 8, 8, 0],\n",
       "       [5, 8, 9, 1, 2],\n",
       "       [1, 1, 4, 6, 3]])"
      ]
     },
     "execution_count": 13,
     "metadata": {},
     "output_type": "execute_result"
    }
   ],
   "source": [
    "# We set the \"seed\" of random numbers to 27\n",
    "np.random.seed(27)\n",
    "\n",
    "# We create an array of random integer numbers between 0 and 10, of size (3,5)\n",
    "array_4 = np.random.randint(0, 10, (3,5))\n",
    "array_4"
   ]
  },
  {
   "cell_type": "code",
   "execution_count": 14,
   "id": "2e59155d",
   "metadata": {},
   "outputs": [
    {
     "data": {
      "text/plain": [
       "array([0, 1, 2, 3, 4, 5, 6, 8, 9])"
      ]
     },
     "execution_count": 14,
     "metadata": {},
     "output_type": "execute_result"
    }
   ],
   "source": [
    "# Find the unique values of the array_4\n",
    "np.unique(array_4)"
   ]
  },
  {
   "cell_type": "code",
   "execution_count": 15,
   "id": "da2d08b8",
   "metadata": {},
   "outputs": [
    {
     "data": {
      "text/plain": [
       "array([5, 8, 9, 1, 2])"
      ]
     },
     "execution_count": 15,
     "metadata": {},
     "output_type": "execute_result"
    }
   ],
   "source": [
    "# We extract the element of the index 1 of the array_4\n",
    "array_4[1]"
   ]
  },
  {
   "cell_type": "code",
   "execution_count": 16,
   "id": "49e83c6d",
   "metadata": {},
   "outputs": [
    {
     "data": {
      "text/plain": [
       "array([[3, 8, 8, 8, 0],\n",
       "       [5, 8, 9, 1, 2]])"
      ]
     },
     "execution_count": 16,
     "metadata": {},
     "output_type": "execute_result"
    }
   ],
   "source": [
    "# We extract the first two rows of the array_4\n",
    "array_4[:2]"
   ]
  },
  {
   "cell_type": "code",
   "execution_count": 17,
   "id": "31a25edf",
   "metadata": {},
   "outputs": [
    {
     "data": {
      "text/plain": [
       "array([[3, 8],\n",
       "       [5, 8]])"
      ]
     },
     "execution_count": 17,
     "metadata": {},
     "output_type": "execute_result"
    }
   ],
   "source": [
    "# We extract the first two data from the first two rows of the array_4\n",
    "array_4[:2, :2]"
   ]
  },
  {
   "cell_type": "code",
   "execution_count": 18,
   "id": "bfd6d010",
   "metadata": {},
   "outputs": [],
   "source": [
    "# We create two arrays of size 3x4: one filled with random numbers between 0 and 10, and another filling of ones.\n",
    "array_5 = np.random.randint(0, 10, (3, 4))\n",
    "array_6 = np.ones((3,4))"
   ]
  },
  {
   "cell_type": "code",
   "execution_count": 19,
   "id": "2899e935",
   "metadata": {},
   "outputs": [
    {
     "data": {
      "text/plain": [
       "array([[3, 0, 5, 3],\n",
       "       [3, 6, 7, 2],\n",
       "       [7, 8, 5, 7]])"
      ]
     },
     "execution_count": 19,
     "metadata": {},
     "output_type": "execute_result"
    }
   ],
   "source": [
    "# We invoke the array_5\n",
    "array_5"
   ]
  },
  {
   "cell_type": "code",
   "execution_count": 20,
   "id": "f861f5b3",
   "metadata": {},
   "outputs": [
    {
     "data": {
      "text/plain": [
       "array([[1., 1., 1., 1.],\n",
       "       [1., 1., 1., 1.],\n",
       "       [1., 1., 1., 1.]])"
      ]
     },
     "execution_count": 20,
     "metadata": {},
     "output_type": "execute_result"
    }
   ],
   "source": [
    "# We invoke the array_6\n",
    "array_6"
   ]
  },
  {
   "cell_type": "code",
   "execution_count": 21,
   "id": "e8b53036",
   "metadata": {},
   "outputs": [
    {
     "data": {
      "text/plain": [
       "array([[4., 1., 6., 4.],\n",
       "       [4., 7., 8., 3.],\n",
       "       [8., 9., 6., 8.]])"
      ]
     },
     "execution_count": 21,
     "metadata": {},
     "output_type": "execute_result"
    }
   ],
   "source": [
    "# We add the two array\n",
    "array_5 + array_6"
   ]
  },
  {
   "cell_type": "code",
   "execution_count": 22,
   "id": "56545b2a",
   "metadata": {},
   "outputs": [
    {
     "data": {
      "text/plain": [
       "array([[1., 1., 1.],\n",
       "       [1., 1., 1.],\n",
       "       [1., 1., 1.],\n",
       "       [1., 1., 1.]])"
      ]
     },
     "execution_count": 22,
     "metadata": {},
     "output_type": "execute_result"
    }
   ],
   "source": [
    "# We now create an array of size (4,3) filled with ones\n",
    "array_7 = np.ones((4,3))\n",
    "array_7"
   ]
  },
  {
   "cell_type": "code",
   "execution_count": 23,
   "id": "bd1b5726",
   "metadata": {},
   "outputs": [
    {
     "ename": "ValueError",
     "evalue": "operands could not be broadcast together with shapes (3,4) (4,3) ",
     "output_type": "error",
     "traceback": [
      "\u001b[1;31m---------------------------------------------------------------------------\u001b[0m",
      "\u001b[1;31mValueError\u001b[0m                                Traceback (most recent call last)",
      "\u001b[1;32mC:\\Users\\Public\\Documents\\Wondershare\\CreatorTemp\\ipykernel_16580\\1806887405.py\u001b[0m in \u001b[0;36m<module>\u001b[1;34m\u001b[0m\n\u001b[0;32m      1\u001b[0m \u001b[1;31m# We will try to add the array 6 and 7\u001b[0m\u001b[1;33m\u001b[0m\u001b[1;33m\u001b[0m\u001b[0m\n\u001b[1;32m----> 2\u001b[1;33m \u001b[0marray_6\u001b[0m \u001b[1;33m+\u001b[0m \u001b[0marray_7\u001b[0m\u001b[1;33m\u001b[0m\u001b[1;33m\u001b[0m\u001b[0m\n\u001b[0m",
      "\u001b[1;31mValueError\u001b[0m: operands could not be broadcast together with shapes (3,4) (4,3) "
     ]
    }
   ],
   "source": [
    "# We will try to add the array 6 and 7\n",
    "array_6 + array_7"
   ]
  },
  {
   "cell_type": "code",
   "execution_count": 24,
   "id": "2190d250",
   "metadata": {},
   "outputs": [
    {
     "data": {
      "text/plain": [
       "array([[1., 1., 1.],\n",
       "       [1., 1., 1.],\n",
       "       [1., 1., 1.],\n",
       "       [1., 1., 1.]])"
      ]
     },
     "execution_count": 24,
     "metadata": {},
     "output_type": "execute_result"
    }
   ],
   "source": [
    "# What is the reason for the above error? What should we take into account so that it does not happen?\n",
    "# That our arrays have to have the same size\n",
    "\n",
    "\n",
    "# Then we will create another array of size (4,3) full of ones\n",
    "array_8 = np.ones((4,3))\n",
    "array_8"
   ]
  },
  {
   "cell_type": "code",
   "execution_count": 25,
   "id": "cec4d5b2",
   "metadata": {},
   "outputs": [
    {
     "data": {
      "text/plain": [
       "array([[0., 0., 0.],\n",
       "       [0., 0., 0.],\n",
       "       [0., 0., 0.],\n",
       "       [0., 0., 0.]])"
      ]
     },
     "execution_count": 25,
     "metadata": {},
     "output_type": "execute_result"
    }
   ],
   "source": [
    "# We subtract the array_8 from array_7\n",
    "array_8 - array_7"
   ]
  },
  {
   "cell_type": "code",
   "execution_count": 26,
   "id": "ade59aa5",
   "metadata": {},
   "outputs": [],
   "source": [
    "# We create another two arrays of size 3 x 3 with random numbers from 1 to 5\n",
    "array_9 = np.random.randint(1, 5, (3, 3))\n",
    "array_10 = np.random.randint(1, 5, (3, 3))"
   ]
  },
  {
   "cell_type": "code",
   "execution_count": 27,
   "id": "02caa616",
   "metadata": {},
   "outputs": [
    {
     "data": {
      "text/plain": [
       "array([[2, 3, 4],\n",
       "       [1, 4, 4],\n",
       "       [2, 3, 4]])"
      ]
     },
     "execution_count": 27,
     "metadata": {},
     "output_type": "execute_result"
    }
   ],
   "source": [
    "# We invoke the array_9\n",
    "array_9"
   ]
  },
  {
   "cell_type": "code",
   "execution_count": 28,
   "id": "a311d156",
   "metadata": {},
   "outputs": [
    {
     "data": {
      "text/plain": [
       "array([[2, 1, 4],\n",
       "       [4, 1, 2],\n",
       "       [2, 4, 1]])"
      ]
     },
     "execution_count": 28,
     "metadata": {},
     "output_type": "execute_result"
    }
   ],
   "source": [
    "# We invoke the array_10\n",
    "array_10"
   ]
  },
  {
   "cell_type": "code",
   "execution_count": 29,
   "id": "c6b26ae9",
   "metadata": {},
   "outputs": [
    {
     "data": {
      "text/plain": [
       "array([[ 4,  3, 16],\n",
       "       [ 4,  4,  8],\n",
       "       [ 4, 12,  4]])"
      ]
     },
     "execution_count": 29,
     "metadata": {},
     "output_type": "execute_result"
    }
   ],
   "source": [
    "# Multiply the last two arrays together\n",
    "array_9 * array_10"
   ]
  },
  {
   "cell_type": "code",
   "execution_count": 30,
   "id": "1ad86957",
   "metadata": {},
   "outputs": [
    {
     "data": {
      "text/plain": [
       "array([[ 4,  9, 16],\n",
       "       [ 1, 16, 16],\n",
       "       [ 4,  9, 16]], dtype=int32)"
      ]
     },
     "execution_count": 30,
     "metadata": {},
     "output_type": "execute_result"
    }
   ],
   "source": [
    "# We raise the array_9 to the square\n",
    "array_9**2"
   ]
  },
  {
   "cell_type": "code",
   "execution_count": 31,
   "id": "c1376a2f",
   "metadata": {},
   "outputs": [
    {
     "data": {
      "text/plain": [
       "array([[1.41421356, 1.        , 2.        ],\n",
       "       [2.        , 1.        , 1.41421356],\n",
       "       [1.41421356, 2.        , 1.        ]])"
      ]
     },
     "execution_count": 31,
     "metadata": {},
     "output_type": "execute_result"
    }
   ],
   "source": [
    "# Find the square root of the array_10\n",
    "np.sqrt(array_10)"
   ]
  },
  {
   "cell_type": "code",
   "execution_count": 32,
   "id": "8a8647aa",
   "metadata": {},
   "outputs": [
    {
     "data": {
      "text/plain": [
       "3.0"
      ]
     },
     "execution_count": 32,
     "metadata": {},
     "output_type": "execute_result"
    }
   ],
   "source": [
    "# Find the average of the values in the array_9\n",
    "array_9.mean()"
   ]
  },
  {
   "cell_type": "code",
   "execution_count": 33,
   "id": "3564eefe",
   "metadata": {},
   "outputs": [
    {
     "data": {
      "text/plain": [
       "4"
      ]
     },
     "execution_count": 33,
     "metadata": {},
     "output_type": "execute_result"
    }
   ],
   "source": [
    "# Find the maximum value of the values of the array_9\n",
    "array_9.max()"
   ]
  },
  {
   "cell_type": "code",
   "execution_count": 34,
   "id": "a73c61bc",
   "metadata": {},
   "outputs": [
    {
     "data": {
      "text/plain": [
       "1"
      ]
     },
     "execution_count": 34,
     "metadata": {},
     "output_type": "execute_result"
    }
   ],
   "source": [
    "# Find the minimum value of the values of the array_9\n",
    "array_9.min()\n"
   ]
  },
  {
   "cell_type": "code",
   "execution_count": 35,
   "id": "1425ab77",
   "metadata": {},
   "outputs": [],
   "source": [
    "# We change the shape of the array_9 for one of 9x1, and we store it as array_11\n",
    "array_11 = array_9.reshape((9,1))"
   ]
  },
  {
   "cell_type": "code",
   "execution_count": 36,
   "id": "5d0b705c",
   "metadata": {},
   "outputs": [
    {
     "data": {
      "text/plain": [
       "array([[2],\n",
       "       [3],\n",
       "       [4],\n",
       "       [1],\n",
       "       [4],\n",
       "       [4],\n",
       "       [2],\n",
       "       [3],\n",
       "       [4]])"
      ]
     },
     "execution_count": 36,
     "metadata": {},
     "output_type": "execute_result"
    }
   ],
   "source": [
    "# We invoke the array_11\n",
    "array_11\n"
   ]
  },
  {
   "cell_type": "code",
   "execution_count": 37,
   "id": "7851b763",
   "metadata": {},
   "outputs": [
    {
     "data": {
      "text/plain": [
       "array([[2, 3, 4, 1, 4, 4, 2, 3, 4]])"
      ]
     },
     "execution_count": 37,
     "metadata": {},
     "output_type": "execute_result"
    }
   ],
   "source": [
    "# We transpose the array_11\n",
    "array_11.T"
   ]
  },
  {
   "cell_type": "code",
   "execution_count": 38,
   "id": "a3c9962d",
   "metadata": {},
   "outputs": [
    {
     "data": {
      "text/plain": [
       "array([[False,  True, False],\n",
       "       [False,  True,  True],\n",
       "       [False, False,  True]])"
      ]
     },
     "execution_count": 38,
     "metadata": {},
     "output_type": "execute_result"
    }
   ],
   "source": [
    "# We compare the array_9 and the array_10, to know which elements of the array_9 are greater than those of the array_10\n",
    "array_12 = array_9 > array_10\n",
    "array_12\n"
   ]
  },
  {
   "cell_type": "code",
   "execution_count": 39,
   "id": "6d7fa2e4",
   "metadata": {},
   "outputs": [
    {
     "data": {
      "text/plain": [
       "dtype('bool')"
      ]
     },
     "execution_count": 39,
     "metadata": {},
     "output_type": "execute_result"
    }
   ],
   "source": [
    "# What types of data are part of the result array?\n",
    "\n",
    "\n",
    "# Let's see your new data types\n",
    "array_12.dtype\n"
   ]
  },
  {
   "cell_type": "code",
   "execution_count": 40,
   "id": "6a7f7b18",
   "metadata": {},
   "outputs": [
    {
     "data": {
      "text/plain": [
       "array([[ True, False,  True],\n",
       "       [False, False, False],\n",
       "       [ True, False, False]])"
      ]
     },
     "execution_count": 40,
     "metadata": {},
     "output_type": "execute_result"
    }
   ],
   "source": [
    "# Any of the elements of the array_9 is equal to its equivalent in the array_10?\n",
    "array_9 == array_10 "
   ]
  },
  {
   "cell_type": "code",
   "execution_count": 41,
   "id": "d10861dc",
   "metadata": {},
   "outputs": [
    {
     "data": {
      "text/plain": [
       "array([[ True,  True,  True],\n",
       "       [False,  True,  True],\n",
       "       [ True, False,  True]])"
      ]
     },
     "execution_count": 41,
     "metadata": {},
     "output_type": "execute_result"
    }
   ],
   "source": [
    "# We compare both arrays again, on this occasion with >=\n",
    "array_9 >= array_10 "
   ]
  },
  {
   "cell_type": "code",
   "execution_count": 42,
   "id": "19ccf165",
   "metadata": {},
   "outputs": [
    {
     "data": {
      "text/plain": [
       "array([[False,  True,  True],\n",
       "       [False,  True,  True],\n",
       "       [False,  True,  True]])"
      ]
     },
     "execution_count": 42,
     "metadata": {},
     "output_type": "execute_result"
    }
   ],
   "source": [
    "# We look for the elements of the array_9 that are greater than 2\n",
    "array_9 > 2"
   ]
  },
  {
   "cell_type": "code",
   "execution_count": 43,
   "id": "cddc85b5",
   "metadata": {},
   "outputs": [
    {
     "data": {
      "text/plain": [
       "array([[2, 3, 4],\n",
       "       [1, 4, 4],\n",
       "       [2, 3, 4]])"
      ]
     },
     "execution_count": 43,
     "metadata": {},
     "output_type": "execute_result"
    }
   ],
   "source": [
    "# Sort the elements in the array_9 from smallest to largest\n",
    "np.sort(array_9)"
   ]
  },
  {
   "cell_type": "code",
   "execution_count": null,
   "id": "2242733b",
   "metadata": {},
   "outputs": [],
   "source": []
  }
 ],
 "metadata": {
  "kernelspec": {
   "display_name": "Python 3 (ipykernel)",
   "language": "python",
   "name": "python3"
  },
  "language_info": {
   "codemirror_mode": {
    "name": "ipython",
    "version": 3
   },
   "file_extension": ".py",
   "mimetype": "text/x-python",
   "name": "python",
   "nbconvert_exporter": "python",
   "pygments_lexer": "ipython3",
   "version": "3.9.13"
  }
 },
 "nbformat": 4,
 "nbformat_minor": 5
}
